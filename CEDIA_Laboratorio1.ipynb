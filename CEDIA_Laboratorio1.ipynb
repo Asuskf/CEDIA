{
  "nbformat": 4,
  "nbformat_minor": 0,
  "metadata": {
    "colab": {
      "name": "CEDIA_Laboratorio1.ipynb",
      "provenance": [],
      "authorship_tag": "ABX9TyOISq18ZL0xxcy0JS4GNWcf",
      "include_colab_link": true
    },
    "kernelspec": {
      "name": "python3",
      "display_name": "Python 3"
    },
    "language_info": {
      "name": "python"
    }
  },
  "cells": [
    {
      "cell_type": "markdown",
      "metadata": {
        "id": "view-in-github",
        "colab_type": "text"
      },
      "source": [
        "<a href=\"https://colab.research.google.com/github/Asuskf/CEDIA/blob/main/CEDIA_Laboratorio1.ipynb\" target=\"_parent\"><img src=\"https://colab.research.google.com/assets/colab-badge.svg\" alt=\"Open In Colab\"/></a>"
      ]
    },
    {
      "cell_type": "code",
      "metadata": {
        "id": "ftbp41iDA8q1"
      },
      "source": [
        "import pandas as pd\n",
        "import requests\n",
        "from collections import Counter\n",
        "import unicodedata"
      ],
      "execution_count": null,
      "outputs": []
    },
    {
      "cell_type": "code",
      "metadata": {
        "id": "Ekjo9RG5Fkuj"
      },
      "source": [
        "def get_Text_Link(link):     \n",
        "    response = requests.get(link)\n",
        "    response = response.text.split('\\n')\n",
        "    cleanAnswer = [text.replace('  ',' ').replace('-“', '').replace('.“', '').replace('” ',' (') for text in response if len(text) > 1]\n",
        "    return cleanAnswer"
      ],
      "execution_count": null,
      "outputs": []
    },
    {
      "cell_type": "code",
      "metadata": {
        "id": "819DZJS0WwXp"
      },
      "source": [
        "def remove_accents(input_str):\n",
        "    nfkd_form = unicodedata.normalize('NFKD', input_str)\n",
        "    only_ascii = nfkd_form.encode('ASCII', 'ignore')\n",
        "    return only_ascii.decode(\"utf-8\") "
      ],
      "execution_count": null,
      "outputs": []
    },
    {
      "cell_type": "code",
      "metadata": {
        "id": "X_d-8TeUFpLt"
      },
      "source": [
        "link = 'https://raw.githubusercontent.com/jleahred/ortograph/master/data/frases%20c%C3%A9lebres.txt'\n",
        "phrases = get_Text_Link(link)"
      ],
      "execution_count": null,
      "outputs": []
    },
    {
      "cell_type": "code",
      "metadata": {
        "colab": {
          "base_uri": "https://localhost:8080/",
          "height": 36
        },
        "id": "JXws6--NF8at",
        "outputId": "243096f2-d7a5-46b5-88e7-657f8b7874c9"
      },
      "source": [
        "'# Topics ' + str(len([phrase for phrase in phrases if 'sobre:' in phrase]))"
      ],
      "execution_count": null,
      "outputs": [
        {
          "output_type": "execute_result",
          "data": {
            "application/vnd.google.colaboratory.intrinsic+json": {
              "type": "string"
            },
            "text/plain": [
              "'# Topics 10'"
            ]
          },
          "metadata": {},
          "execution_count": 97
        }
      ]
    },
    {
      "cell_type": "code",
      "metadata": {
        "colab": {
          "base_uri": "https://localhost:8080/",
          "height": 36
        },
        "id": "tsf-AlAWQxFo",
        "outputId": "56e4aaae-e020-4982-f4b7-70ddeeaa5808"
      },
      "source": [
        "'# Authors ' + str(len([phrase for phrase in phrases if '(' in phrase]))"
      ],
      "execution_count": null,
      "outputs": [
        {
          "output_type": "execute_result",
          "data": {
            "application/vnd.google.colaboratory.intrinsic+json": {
              "type": "string"
            },
            "text/plain": [
              "'# Authors 157'"
            ]
          },
          "metadata": {},
          "execution_count": 98
        }
      ]
    },
    {
      "cell_type": "code",
      "metadata": {
        "id": "cTv4mm_jRPFW"
      },
      "source": [
        "preListAuthors = [remove_accents(phrase.split('(')[1].lower().replace(')','').replace(', ', ' ')) for phrase in phrases if '(' in phrase]\n"
      ],
      "execution_count": null,
      "outputs": []
    },
    {
      "cell_type": "code",
      "metadata": {
        "colab": {
          "base_uri": "https://localhost:8080/"
        },
        "id": "puew7BIKRbE2",
        "outputId": "d58310e3-260c-4bf5-db97-a102f6006fec"
      },
      "source": [
        "Counter([author[:-1] if author[-1] == ' ' else author for author in preListAuthors ])"
      ],
      "execution_count": null,
      "outputs": [
        {
          "output_type": "execute_result",
          "data": {
            "text/plain": [
              "Counter({'abraham lincoln': 2,\n",
              "         'adam smith': 1,\n",
              "         'adenauer konrad': 2,\n",
              "         'alain': 1,\n",
              "         'alain emilie chartier': 1,\n",
              "         'albert camus': 1,\n",
              "         'albert einstein': 1,\n",
              "         'albert schweitzer': 1,\n",
              "         'alberto vazques': 1,\n",
              "         'aldous huxley': 1,\n",
              "         'alejandro dumas': 1,\n",
              "         'alfonso teja zaboc': 1,\n",
              "         'anonimo': 4,\n",
              "         'antoine de saint exupery': 1,\n",
              "         'antonio machado': 1,\n",
              "         'arenal concepcion': 1,\n",
              "         'aristoteles': 2,\n",
              "         'arthur schnitzler': 1,\n",
              "         'arthur schopenhauer': 1,\n",
              "         'asselin henry': 1,\n",
              "         'august von kotzebue': 1,\n",
              "         'bach richard': 1,\n",
              "         'bacon francis': 1,\n",
              "         'benavente jacinto': 1,\n",
              "         'benjamin franklin': 4,\n",
              "         'boccaccio giovani': 2,\n",
              "         'borges jorge luis': 1,\n",
              "         'buck pearl': 1,\n",
              "         'c.w.': 1,\n",
              "         'carl sandburg': 1,\n",
              "         'casanova alejandro': 1,\n",
              "         'christie agatha': 1,\n",
              "         'cohen leonard': 1,\n",
              "         'confucio': 3,\n",
              "         'democrates': 1,\n",
              "         'descartes rene': 1,\n",
              "         'einstein': 1,\n",
              "         'einstein albert': 7,\n",
              "         'elbert hubbard': 1,\n",
              "         'elizabeth taylor': 1,\n",
              "         'enrique jardiel poncela': 1,\n",
              "         'epicuro': 1,\n",
              "         'esopo': 1,\n",
              "         'francois': 1,\n",
              "         'franz kafka': 1,\n",
              "         'gabriel garcia marquez': 1,\n",
              "         'gay john': 1,\n",
              "         'george schaller': 1,\n",
              "         'giacomo leopardi': 1,\n",
              "         'goldoni carlo': 1,\n",
              "         'graf': 1,\n",
              "         'graf arthur': 1,\n",
              "         'grocho marx': 10,\n",
              "         'heinrich boll': 1,\n",
              "         'henry fonda': 1,\n",
              "         'henry ford': 1,\n",
              "         'henry miller': 1,\n",
              "         'isaac asimov': 1,\n",
              "         'isadora duncan': 1,\n",
              "         'jean antoine de cerceau': 1,\n",
              "         'jonh cage': 1,\n",
              "         'jonn lennon': 1,\n",
              "         'josefina vicens': 1,\n",
              "         'la bruyere': 1,\n",
              "         'lao tse': 2,\n",
              "         'leonard cohen': 1,\n",
              "         'lola flores': 1,\n",
              "         'lord byron': 1,\n",
              "         'lucio anneo seneca': 1,\n",
              "         'm.a.': 1,\n",
              "         'machado antonio': 1,\n",
              "         'madame de sevigne': 1,\n",
              "         'madre teresa': 1,\n",
              "         'mahatma gandhi': 5,\n",
              "         'marcel ayme': 1,\n",
              "         'marcel schvedra': 1,\n",
              "         'marilyn monroe': 1,\n",
              "         'marley bob': 1,\n",
              "         'marx twain': 1,\n",
              "         'matthew arnold': 1,\n",
              "         'milam kundera': 1,\n",
              "         'milton': 1,\n",
              "         'montesquieu': 1,\n",
              "         'nicolas maquiavelo': 1,\n",
              "         'nietzsche friedrich w ': 1,\n",
              "         'pable neruda': 1,\n",
              "         'paul bocuse': 1,\n",
              "         'peter bamm': 1,\n",
              "         'pio baroja': 1,\n",
              "         'platon': 6,\n",
              "         'proust marcel': 1,\n",
              "         'proverbio arabe': 1,\n",
              "         'proverbio castellano': 1,\n",
              "         'proverbio chino': 1,\n",
              "         'proverbio ingles': 1,\n",
              "         'proverbio italiano': 1,\n",
              "         'ralph waldo emerson': 1,\n",
              "         'ray bradbury': 1,\n",
              "         'ricci antonio': 1,\n",
              "         'richard whately': 1,\n",
              "         'richter johan paul fr': 1,\n",
              "         'ronald reagan': 1,\n",
              "         'rotterdan': 1,\n",
              "         'rousseau jean jacques': 1,\n",
              "         'san agustin': 1,\n",
              "         'socrates': 2,\n",
              "         'sofocles': 1,\n",
              "         'soren kierkegaard': 1,\n",
              "         'spurgeon charles h': 1,\n",
              "         'talmud': 1,\n",
              "         'thomas alva edison': 1,\n",
              "         'thomas jefferson': 1,\n",
              "         'torquato tasso': 1,\n",
              "         'twain mark': 1,\n",
              "         'victor hugo': 2,\n",
              "         'walter bagehot': 1,\n",
              "         'west mae': 1,\n",
              "         'william george ward': 1})"
            ]
          },
          "metadata": {},
          "execution_count": 109
        }
      ]
    }
  ]
}